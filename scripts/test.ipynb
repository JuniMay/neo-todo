{
 "cells": [
  {
   "cell_type": "code",
   "execution_count": 1,
   "metadata": {},
   "outputs": [],
   "source": [
    "import requests"
   ]
  },
  {
   "cell_type": "code",
   "execution_count": 14,
   "metadata": {},
   "outputs": [
    {
     "name": "stdout",
     "output_type": "stream",
     "text": [
      "<Response [200]>\n"
     ]
    }
   ],
   "source": [
    "to_duration_task_json = {\n",
    "    'id': 2,\n",
    "    'start_time': '2019-01-01T23:00:00Z',\n",
    "    'end_time': '2019-01-05T23:59:59Z',\n",
    "}\n",
    "\n",
    "r = requests.post('http://127.0.0.1:8000/update/to-duration-task', json=to_duration_task_json)\n",
    "\n",
    "print(r)"
   ]
  },
  {
   "cell_type": "code",
   "execution_count": 15,
   "metadata": {},
   "outputs": [
    {
     "name": "stdout",
     "output_type": "stream",
     "text": [
      "<Response [200]>\n"
     ]
    }
   ],
   "source": [
    "to_reminder_task_json = {\n",
    "    'id': 4,\n",
    "    'remind_time': '2023-5-15T22:00:00Z',\n",
    "}\n",
    "\n",
    "r = requests.post('http://127.0.0.1:8000/update/to-reminder-task', json=to_reminder_task_json)\n",
    "\n",
    "print(r)"
   ]
  },
  {
   "cell_type": "code",
   "execution_count": 16,
   "metadata": {},
   "outputs": [
    {
     "name": "stdout",
     "output_type": "stream",
     "text": [
      "<Response [200]>\n"
     ]
    }
   ],
   "source": [
    "update_reminder_task_json = {\n",
    "    'id': 4,\n",
    "    'remind_time': '2023-5-15T21:11:22Z',\n",
    "}\n",
    "\n",
    "r = requests.post('http://127.0.0.1:8000/update/update-reminder-task', json=update_reminder_task_json)\n",
    "\n",
    "print(r)\n",
    "\n",
    "update_common_task_json = {\n",
    "    'id': 4,\n",
    "    'title': \"#REMIND-TASK!\",\n",
    "    'description': 'This is a reminder task',\n",
    "    'deadline': '2023-5-15T21:11:22Z',\n",
    "    'priority': 10,\n",
    "    'status': 'DONE',\n",
    "    'category_id': 1,\n",
    "}\n",
    "\n",
    "r = requests.post('http://127.0.0.1:8000/update/update-common-task', json=update_common_task_json)"
   ]
  },
  {
   "cell_type": "code",
   "execution_count": 17,
   "metadata": {},
   "outputs": [
    {
     "name": "stdout",
     "output_type": "stream",
     "text": [
      "<Response [200]>\n"
     ]
    }
   ],
   "source": [
    "update_duration_task_json = {\n",
    "    'id': 2,\n",
    "    'start_time': '2023-5-15T21:11:22Z',\n",
    "    'end_time': '2023-5-16T21:11:22Z',\n",
    "}\n",
    "\n",
    "r = requests.post('http://127.0.0.1:8000/update/update-duration-task', json=update_duration_task_json)\n",
    "\n",
    "print(r)\n",
    "\n",
    "update_common_task_json = {\n",
    "    'id': 2,\n",
    "    'title': \"#DURATION-TASK! 有时间间隔的任务\",\n",
    "    'description': '这是一个有时间间隔的任务',\n",
    "    'deadline': '2023-5-17T21:11:22Z',\n",
    "    'priority': 10,\n",
    "    'status': '在做了在做了',\n",
    "    'category_id': 1,\n",
    "}\n",
    "\n",
    "r = requests.post('http://127.0.0.1:8000/update/update-common-task', json=update_common_task_json)"
   ]
  },
  {
   "cell_type": "code",
   "execution_count": 18,
   "metadata": {},
   "outputs": [
    {
     "name": "stdout",
     "output_type": "stream",
     "text": [
      "<Response [200]>\n"
     ]
    }
   ],
   "source": [
    "add_task_tag_json = {\n",
    "    'task_id': 1,\n",
    "    'tag_id': 1,\n",
    "}\n",
    "\n",
    "r = requests.post('http://127.0.0.1:8000/update/add-task-tag',  json=add_task_tag_json)\n",
    "print(r)"
   ]
  },
  {
   "cell_type": "code",
   "execution_count": null,
   "metadata": {},
   "outputs": [],
   "source": []
  }
 ],
 "metadata": {
  "kernelspec": {
   "display_name": "base",
   "language": "python",
   "name": "python3"
  },
  "language_info": {
   "codemirror_mode": {
    "name": "ipython",
    "version": 3
   },
   "file_extension": ".py",
   "mimetype": "text/x-python",
   "name": "python",
   "nbconvert_exporter": "python",
   "pygments_lexer": "ipython3",
   "version": "3.10.9"
  },
  "orig_nbformat": 4
 },
 "nbformat": 4,
 "nbformat_minor": 2
}
